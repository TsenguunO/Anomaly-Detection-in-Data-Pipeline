{
 "cells": [
  {
   "cell_type": "code",
   "execution_count": 3,
   "id": "869bd50d-1d0f-4d6d-884a-c66222876fff",
   "metadata": {},
   "outputs": [],
   "source": [
    "import numpy as np \n",
    "import pandas as pd\n",
    "import os\n",
    "from sklearn.ensemble import IsolationForest\n",
    "from sklearn.model_selection import train_test_split\n",
    "from sklearn.metrics import confusion_matrix,ConfusionMatrixDisplay,classification_report,make_scorer, f1_score\n",
    "from sklearn.utils import resample\n",
    "import matplotlib.pyplot as plt\n",
    "from datetime import datetime\n",
    "from sklearn import model_selection\n",
    "from joblib import dump, load\n",
    "import mlflow.sklearn\n",
    "import mlflow\n",
    "from mlflow.models import infer_signature\n",
    "from mlflow.tracking import MlflowClient\n",
    "import sys\n",
    "sys.path.append('../')\n",
    "from result_display import show_result,export_anomaly\n",
    "from reject_anomalies import pred_baseon_threshold,make_use_reject_anomalies\n",
    "from Feature_engineer import remove_unwanted_col,feature_engineer_steps"
   ]
  },
  {
   "cell_type": "code",
   "execution_count": 4,
   "id": "ac0146ae-471a-4207-a1eb-2c4a62f34ae7",
   "metadata": {},
   "outputs": [],
   "source": [
    "from sklearn.preprocessing import StandardScaler\n",
    "from sklearn.cluster import KMeans\n",
    "import matplotlib.pyplot as plt\n",
    "\n",
    "from sklearn.metrics import confusion_matrix\n",
    "import seaborn as sns\n",
    "import matplotlib.pypalot as plt\n"
   ]
  },
  {
   "cell_type": "code",
   "execution_count": 5,
   "id": "8897a461-cb90-4345-b455-2378945ffe76",
   "metadata": {},
   "outputs": [],
   "source": [
    "transactions_df = pd.read_csv(\"data/transactions_df.csv\")\n",
    "terminal_profiles_df = pd.read_csv(\"data/terminal_profiles_table.csv\")\n",
    "customer_profiles_df = pd.read_csv(\"data/customer_profiles_table.csv\")\n",
    "join_terminal = pd.merge(transactions_df, terminal_profiles_df, on='terminal_id', how='inner') #join dataset base on key value\n",
    "join_customer = pd.merge(join_terminal, customer_profiles_df, on='customer_id', how='inner')\n"
   ]
  },
  {
   "cell_type": "code",
   "execution_count": 6,
   "id": "b909ad58-8464-47ac-be04-f7e4d07ca8a0",
   "metadata": {},
   "outputs": [
    {
     "name": "stdout",
     "output_type": "stream",
     "text": [
      "['transaction_id', 'post_ts', 'customer_id', 'bin_x', 'terminal_id', 'amt', 'entry_mode', 'fraud', 'fraud_scenario', 'lat_terminal', 'log_terminal', 'mcc', 'mean_amount', 'std_amount', 'mean_nb_tx_per_day', 'network_id', 'bin_y', 'lat_customer', 'log_customer', 'available_terminals', 'nb_terminals']\n"
     ]
    }
   ],
   "source": [
    "print(join_customer.columns.tolist())"
   ]
  },
  {
   "cell_type": "code",
   "execution_count": 7,
   "id": "8f9b29fe-7462-401e-9c45-3fdef2ab6b84",
   "metadata": {},
   "outputs": [],
   "source": [
    "#creating sample file for client demo purpose\n",
    "samle_file = transactions_df.sample(n=100, random_state=42)\n",
    "samle_file.to_csv('data/user_demo_data.csv', index=False)"
   ]
  },
  {
   "cell_type": "code",
   "execution_count": 8,
   "id": "14409da5-8d63-4581-a824-581cd288e14e",
   "metadata": {},
   "outputs": [],
   "source": [
    "# Feature engineer step and one-hot encoding for the categorical feature. \n",
    "# Stored in Feature_engineer.py\n",
    "train_X,train_y = feature_engineer_steps(join_customer)"
   ]
  },
  {
   "cell_type": "code",
   "execution_count": 9,
   "id": "12972350-40fd-462e-abba-bf54918c1155",
   "metadata": {},
   "outputs": [
    {
     "name": "stdout",
     "output_type": "stream",
     "text": [
      "['transaction_id', 'post_ts', 'customer_id', 'bin_x', 'terminal_id', 'amt', 'lat_terminal', 'log_terminal', 'mcc', 'mean_amount', 'std_amount', 'mean_nb_tx_per_day', 'bin_y', 'lat_customer', 'log_customer', 'available_terminals', 'nb_terminals', 'location_different', 'using_available_terminals', 'timestamp', 'date', 'per_day_difference_count', 'mean_difference', 'timestamp_numeric', 'entry_mode_Chip', 'entry_mode_Contactless', 'entry_mode_Swipe', 'network_id_A', 'network_id_D', 'network_id_M', 'network_id_V']\n"
     ]
    }
   ],
   "source": [
    "print(train_X.columns.tolist())"
   ]
  },
  {
   "cell_type": "code",
   "execution_count": 41,
   "id": "1a3ebc9a-06dd-4da0-b045-1fd325386e68",
   "metadata": {},
   "outputs": [
    {
     "data": {
      "text/html": [
       "<div>\n",
       "<style scoped>\n",
       "    .dataframe tbody tr th:only-of-type {\n",
       "        vertical-align: middle;\n",
       "    }\n",
       "\n",
       "    .dataframe tbody tr th {\n",
       "        vertical-align: top;\n",
       "    }\n",
       "\n",
       "    .dataframe thead th {\n",
       "        text-align: right;\n",
       "    }\n",
       "</style>\n",
       "<table border=\"1\" class=\"dataframe\">\n",
       "  <thead>\n",
       "    <tr style=\"text-align: right;\">\n",
       "      <th></th>\n",
       "      <th>amt</th>\n",
       "      <th>lat_terminal</th>\n",
       "      <th>log_terminal</th>\n",
       "      <th>mean_amount</th>\n",
       "      <th>std_amount</th>\n",
       "      <th>mean_nb_tx_per_day</th>\n",
       "      <th>lat_customer</th>\n",
       "      <th>log_customer</th>\n",
       "      <th>nb_terminals</th>\n",
       "      <th>location_different</th>\n",
       "      <th>per_day_difference_count</th>\n",
       "      <th>mean_difference</th>\n",
       "      <th>timestamp_numeric</th>\n",
       "      <th>entry_mode_Chip</th>\n",
       "      <th>entry_mode_Contactless</th>\n",
       "      <th>entry_mode_Swipe</th>\n",
       "      <th>network_id_A</th>\n",
       "      <th>network_id_D</th>\n",
       "      <th>network_id_M</th>\n",
       "      <th>network_id_V</th>\n",
       "    </tr>\n",
       "  </thead>\n",
       "  <tbody>\n",
       "    <tr>\n",
       "      <th>0</th>\n",
       "      <td>38.97</td>\n",
       "      <td>41.6196</td>\n",
       "      <td>8.8804</td>\n",
       "      <td>69.331619</td>\n",
       "      <td>34.665810</td>\n",
       "      <td>1.465526</td>\n",
       "      <td>41.4894</td>\n",
       "      <td>8.5813</td>\n",
       "      <td>8</td>\n",
       "      <td>0.269275</td>\n",
       "      <td>3</td>\n",
       "      <td>-30.361619</td>\n",
       "      <td>1.675170e+09</td>\n",
       "      <td>False</td>\n",
       "      <td>True</td>\n",
       "      <td>False</td>\n",
       "      <td>False</td>\n",
       "      <td>False</td>\n",
       "      <td>False</td>\n",
       "      <td>True</td>\n",
       "    </tr>\n",
       "    <tr>\n",
       "      <th>1</th>\n",
       "      <td>84.07</td>\n",
       "      <td>39.9841</td>\n",
       "      <td>7.9760</td>\n",
       "      <td>63.288956</td>\n",
       "      <td>31.644478</td>\n",
       "      <td>3.203733</td>\n",
       "      <td>40.0288</td>\n",
       "      <td>8.3337</td>\n",
       "      <td>6</td>\n",
       "      <td>0.354896</td>\n",
       "      <td>3</td>\n",
       "      <td>20.781044</td>\n",
       "      <td>1.675170e+09</td>\n",
       "      <td>False</td>\n",
       "      <td>True</td>\n",
       "      <td>False</td>\n",
       "      <td>False</td>\n",
       "      <td>True</td>\n",
       "      <td>False</td>\n",
       "      <td>False</td>\n",
       "    </tr>\n",
       "    <tr>\n",
       "      <th>2</th>\n",
       "      <td>113.18</td>\n",
       "      <td>38.1775</td>\n",
       "      <td>7.9678</td>\n",
       "      <td>70.981654</td>\n",
       "      <td>35.490827</td>\n",
       "      <td>3.334656</td>\n",
       "      <td>38.4349</td>\n",
       "      <td>7.8189</td>\n",
       "      <td>9</td>\n",
       "      <td>0.209961</td>\n",
       "      <td>4</td>\n",
       "      <td>42.198346</td>\n",
       "      <td>1.675170e+09</td>\n",
       "      <td>False</td>\n",
       "      <td>True</td>\n",
       "      <td>False</td>\n",
       "      <td>False</td>\n",
       "      <td>False</td>\n",
       "      <td>False</td>\n",
       "      <td>True</td>\n",
       "    </tr>\n",
       "    <tr>\n",
       "      <th>3</th>\n",
       "      <td>28.96</td>\n",
       "      <td>41.4863</td>\n",
       "      <td>9.3078</td>\n",
       "      <td>16.874338</td>\n",
       "      <td>8.437169</td>\n",
       "      <td>3.548954</td>\n",
       "      <td>41.7687</td>\n",
       "      <td>9.0176</td>\n",
       "      <td>6</td>\n",
       "      <td>0.066830</td>\n",
       "      <td>5</td>\n",
       "      <td>12.085662</td>\n",
       "      <td>1.675170e+09</td>\n",
       "      <td>True</td>\n",
       "      <td>False</td>\n",
       "      <td>False</td>\n",
       "      <td>False</td>\n",
       "      <td>False</td>\n",
       "      <td>True</td>\n",
       "      <td>False</td>\n",
       "    </tr>\n",
       "    <tr>\n",
       "      <th>4</th>\n",
       "      <td>65.45</td>\n",
       "      <td>38.1393</td>\n",
       "      <td>8.8370</td>\n",
       "      <td>91.312221</td>\n",
       "      <td>45.656110</td>\n",
       "      <td>3.229474</td>\n",
       "      <td>37.9586</td>\n",
       "      <td>8.9459</td>\n",
       "      <td>11</td>\n",
       "      <td>0.144199</td>\n",
       "      <td>4</td>\n",
       "      <td>-25.862221</td>\n",
       "      <td>1.675170e+09</td>\n",
       "      <td>True</td>\n",
       "      <td>False</td>\n",
       "      <td>False</td>\n",
       "      <td>False</td>\n",
       "      <td>False</td>\n",
       "      <td>False</td>\n",
       "      <td>True</td>\n",
       "    </tr>\n",
       "    <tr>\n",
       "      <th>...</th>\n",
       "      <td>...</td>\n",
       "      <td>...</td>\n",
       "      <td>...</td>\n",
       "      <td>...</td>\n",
       "      <td>...</td>\n",
       "      <td>...</td>\n",
       "      <td>...</td>\n",
       "      <td>...</td>\n",
       "      <td>...</td>\n",
       "      <td>...</td>\n",
       "      <td>...</td>\n",
       "      <td>...</td>\n",
       "      <td>...</td>\n",
       "      <td>...</td>\n",
       "      <td>...</td>\n",
       "      <td>...</td>\n",
       "      <td>...</td>\n",
       "      <td>...</td>\n",
       "      <td>...</td>\n",
       "      <td>...</td>\n",
       "    </tr>\n",
       "    <tr>\n",
       "      <th>1785303</th>\n",
       "      <td>79.79</td>\n",
       "      <td>40.2779</td>\n",
       "      <td>8.3579</td>\n",
       "      <td>52.436549</td>\n",
       "      <td>26.218275</td>\n",
       "      <td>3.823199</td>\n",
       "      <td>40.1618</td>\n",
       "      <td>7.8099</td>\n",
       "      <td>9</td>\n",
       "      <td>0.535560</td>\n",
       "      <td>1</td>\n",
       "      <td>27.353451</td>\n",
       "      <td>1.690726e+09</td>\n",
       "      <td>False</td>\n",
       "      <td>True</td>\n",
       "      <td>False</td>\n",
       "      <td>False</td>\n",
       "      <td>False</td>\n",
       "      <td>True</td>\n",
       "      <td>False</td>\n",
       "    </tr>\n",
       "    <tr>\n",
       "      <th>1785304</th>\n",
       "      <td>19.60</td>\n",
       "      <td>41.5019</td>\n",
       "      <td>8.0491</td>\n",
       "      <td>42.268027</td>\n",
       "      <td>21.134014</td>\n",
       "      <td>3.170458</td>\n",
       "      <td>41.1119</td>\n",
       "      <td>7.9758</td>\n",
       "      <td>6</td>\n",
       "      <td>0.383050</td>\n",
       "      <td>6</td>\n",
       "      <td>-22.668027</td>\n",
       "      <td>1.690726e+09</td>\n",
       "      <td>False</td>\n",
       "      <td>False</td>\n",
       "      <td>True</td>\n",
       "      <td>True</td>\n",
       "      <td>False</td>\n",
       "      <td>False</td>\n",
       "      <td>False</td>\n",
       "    </tr>\n",
       "    <tr>\n",
       "      <th>1785305</th>\n",
       "      <td>23.67</td>\n",
       "      <td>41.3494</td>\n",
       "      <td>8.9351</td>\n",
       "      <td>93.056281</td>\n",
       "      <td>46.528140</td>\n",
       "      <td>2.972050</td>\n",
       "      <td>41.2649</td>\n",
       "      <td>9.4552</td>\n",
       "      <td>6</td>\n",
       "      <td>0.513190</td>\n",
       "      <td>7</td>\n",
       "      <td>-69.386281</td>\n",
       "      <td>1.690726e+09</td>\n",
       "      <td>False</td>\n",
       "      <td>True</td>\n",
       "      <td>False</td>\n",
       "      <td>False</td>\n",
       "      <td>True</td>\n",
       "      <td>False</td>\n",
       "      <td>False</td>\n",
       "    </tr>\n",
       "    <tr>\n",
       "      <th>1785306</th>\n",
       "      <td>6.26</td>\n",
       "      <td>39.4052</td>\n",
       "      <td>8.0347</td>\n",
       "      <td>5.643105</td>\n",
       "      <td>2.821552</td>\n",
       "      <td>2.213253</td>\n",
       "      <td>39.3579</td>\n",
       "      <td>7.9013</td>\n",
       "      <td>8</td>\n",
       "      <td>0.124733</td>\n",
       "      <td>3</td>\n",
       "      <td>0.616895</td>\n",
       "      <td>1.690726e+09</td>\n",
       "      <td>True</td>\n",
       "      <td>False</td>\n",
       "      <td>False</td>\n",
       "      <td>True</td>\n",
       "      <td>False</td>\n",
       "      <td>False</td>\n",
       "      <td>False</td>\n",
       "    </tr>\n",
       "    <tr>\n",
       "      <th>1785307</th>\n",
       "      <td>93.69</td>\n",
       "      <td>39.0981</td>\n",
       "      <td>9.0193</td>\n",
       "      <td>76.066819</td>\n",
       "      <td>38.033410</td>\n",
       "      <td>3.585340</td>\n",
       "      <td>39.0152</td>\n",
       "      <td>9.2994</td>\n",
       "      <td>5</td>\n",
       "      <td>0.267551</td>\n",
       "      <td>3</td>\n",
       "      <td>17.623181</td>\n",
       "      <td>1.690726e+09</td>\n",
       "      <td>True</td>\n",
       "      <td>False</td>\n",
       "      <td>False</td>\n",
       "      <td>False</td>\n",
       "      <td>True</td>\n",
       "      <td>False</td>\n",
       "      <td>False</td>\n",
       "    </tr>\n",
       "  </tbody>\n",
       "</table>\n",
       "<p>1785308 rows × 20 columns</p>\n",
       "</div>"
      ],
      "text/plain": [
       "            amt  lat_terminal  log_terminal  mean_amount  std_amount  \\\n",
       "0         38.97       41.6196        8.8804    69.331619   34.665810   \n",
       "1         84.07       39.9841        7.9760    63.288956   31.644478   \n",
       "2        113.18       38.1775        7.9678    70.981654   35.490827   \n",
       "3         28.96       41.4863        9.3078    16.874338    8.437169   \n",
       "4         65.45       38.1393        8.8370    91.312221   45.656110   \n",
       "...         ...           ...           ...          ...         ...   \n",
       "1785303   79.79       40.2779        8.3579    52.436549   26.218275   \n",
       "1785304   19.60       41.5019        8.0491    42.268027   21.134014   \n",
       "1785305   23.67       41.3494        8.9351    93.056281   46.528140   \n",
       "1785306    6.26       39.4052        8.0347     5.643105    2.821552   \n",
       "1785307   93.69       39.0981        9.0193    76.066819   38.033410   \n",
       "\n",
       "         mean_nb_tx_per_day  lat_customer  log_customer  nb_terminals  \\\n",
       "0                  1.465526       41.4894        8.5813             8   \n",
       "1                  3.203733       40.0288        8.3337             6   \n",
       "2                  3.334656       38.4349        7.8189             9   \n",
       "3                  3.548954       41.7687        9.0176             6   \n",
       "4                  3.229474       37.9586        8.9459            11   \n",
       "...                     ...           ...           ...           ...   \n",
       "1785303            3.823199       40.1618        7.8099             9   \n",
       "1785304            3.170458       41.1119        7.9758             6   \n",
       "1785305            2.972050       41.2649        9.4552             6   \n",
       "1785306            2.213253       39.3579        7.9013             8   \n",
       "1785307            3.585340       39.0152        9.2994             5   \n",
       "\n",
       "         location_different  per_day_difference_count  mean_difference  \\\n",
       "0                  0.269275                         3       -30.361619   \n",
       "1                  0.354896                         3        20.781044   \n",
       "2                  0.209961                         4        42.198346   \n",
       "3                  0.066830                         5        12.085662   \n",
       "4                  0.144199                         4       -25.862221   \n",
       "...                     ...                       ...              ...   \n",
       "1785303            0.535560                         1        27.353451   \n",
       "1785304            0.383050                         6       -22.668027   \n",
       "1785305            0.513190                         7       -69.386281   \n",
       "1785306            0.124733                         3         0.616895   \n",
       "1785307            0.267551                         3        17.623181   \n",
       "\n",
       "         timestamp_numeric  entry_mode_Chip  entry_mode_Contactless  \\\n",
       "0             1.675170e+09            False                    True   \n",
       "1             1.675170e+09            False                    True   \n",
       "2             1.675170e+09            False                    True   \n",
       "3             1.675170e+09             True                   False   \n",
       "4             1.675170e+09             True                   False   \n",
       "...                    ...              ...                     ...   \n",
       "1785303       1.690726e+09            False                    True   \n",
       "1785304       1.690726e+09            False                   False   \n",
       "1785305       1.690726e+09            False                    True   \n",
       "1785306       1.690726e+09             True                   False   \n",
       "1785307       1.690726e+09             True                   False   \n",
       "\n",
       "         entry_mode_Swipe  network_id_A  network_id_D  network_id_M  \\\n",
       "0                   False         False         False         False   \n",
       "1                   False         False          True         False   \n",
       "2                   False         False         False         False   \n",
       "3                   False         False         False          True   \n",
       "4                   False         False         False         False   \n",
       "...                   ...           ...           ...           ...   \n",
       "1785303             False         False         False          True   \n",
       "1785304              True          True         False         False   \n",
       "1785305             False         False          True         False   \n",
       "1785306             False          True         False         False   \n",
       "1785307             False         False          True         False   \n",
       "\n",
       "         network_id_V  \n",
       "0                True  \n",
       "1               False  \n",
       "2                True  \n",
       "3               False  \n",
       "4                True  \n",
       "...               ...  \n",
       "1785303         False  \n",
       "1785304         False  \n",
       "1785305         False  \n",
       "1785306         False  \n",
       "1785307         False  \n",
       "\n",
       "[1785308 rows x 20 columns]"
      ]
     },
     "execution_count": 41,
     "metadata": {},
     "output_type": "execute_result"
    }
   ],
   "source": [
    "train_X = remove_unwanted_col(train_X)\n",
    "train_X"
   ]
  },
  {
   "cell_type": "code",
   "execution_count": 43,
   "id": "2bfc1b8a-5676-4633-8a70-381a7976da11",
   "metadata": {},
   "outputs": [],
   "source": [
    "# Assuming train_X is your feature matrix\n",
    "scaler = StandardScaler()\n",
    "X_train, X_test, y_train, y_test = train_test_split(train_X, train_y, test_size=0.05, random_state=42)\n",
    "X_train_scaled = scaler.fit_transform(X_train)\n",
    "X_test_scaled = scaler.transform(X_test)\n"
   ]
  },
  {
   "cell_type": "code",
   "execution_count": 83,
   "id": "c1a430af-f9de-4ee8-a832-a58a6aeab444",
   "metadata": {},
   "outputs": [
    {
     "data": {
      "image/png": "[encoded data removed]",
      "text/plain": [
       "<Figure size 640x480 with 1 Axes>"
      ]
     },
     "metadata": {},
     "output_type": "display_data"
    }
   ],
   "source": [
    "\n",
    "# wcss = []  # Within-cluster sum of squares\n",
    "# for i in range(1, 11):\n",
    "#     kmeans = KMeans(n_clusters=i, init='k-means++', max_iter=300, n_init=10, random_state=0)\n",
    "#     kmeans.fit(train_X_scaled)\n",
    "#     wcss.append(kmeans.inertia_)\n",
    "\n",
    "# # Plot the results to observe the 'elbow'\n",
    "# plt.plot(range(1, 11), wcss)\n",
    "# plt.title('Elbow Method')\n",
    "# plt.xlabel('Number of clusters')\n",
    "# plt.ylabel('WCSS')  # Within cluster sum of squares\n",
    "# plt.show()"
   ]
  },
  {
   "cell_type": "code",
   "execution_count": 19,
   "id": "569ecbdc-3e49-4691-80d5-3ac57310675a",
   "metadata": {},
   "outputs": [],
   "source": [
    "# Choose the number of clusters based on your elbow method plot\n",
    "def model_train(n_clusters, X_train_scaled):\n",
    "    kmeans = KMeans(n_clusters=n_clusters, init='k-means++', max_iter=1000, n_init=10, random_state=42)\n",
    "    kmeans.fit(X_train_scaled)\n",
    "    \n",
    "    distances = kmeans.transform(X_train_scaled)\n",
    "    closest_cluster_distance = np.min(distances, axis=1)\n",
    "\n",
    "    threshold = np.percentile(closest_cluster_distance, 95)\n",
    "\n",
    "    y_pred = closest_cluster_distance > threshold\n",
    "    return y_pred"
   ]
  },
  {
   "cell_type": "code",
   "execution_count": 20,
   "id": "2c6ac1e0-530d-443a-8e84-43a986f84df6",
   "metadata": {},
   "outputs": [
    {
     "name": "stdout",
     "output_type": "stream",
     "text": [
      "finished train N2\n",
      "[array([False, False, False, ..., False, False, False])]\n"
     ]
    }
   ],
   "source": [
    "y_pred = []\n",
    "for i in range(2,3):\n",
    "    y_pred.append(model_train(i, X_train_scaled))\n",
    "    print(f'finished train N{i}')\n",
    "print(y_pred)"
   ]
  },
  {
   "cell_type": "code",
   "execution_count": 21,
   "id": "ad54c301-2207-4834-9f05-0651a8a6b76d",
   "metadata": {},
   "outputs": [
    {
     "name": "stdout",
     "output_type": "stream",
     "text": [
      "[array([False, False, False, ..., False, False, False])]\n"
     ]
    }
   ],
   "source": [
    "print(y_pred)"
   ]
  },
  {
   "cell_type": "code",
   "execution_count": 22,
   "id": "176035c7-3f01-41ed-9378-6e7743e1fce9",
   "metadata": {},
   "outputs": [],
   "source": [
    "# Define function to calculate accuracy\n",
    "def calculate_accuracy(cm):\n",
    "    TN, FP, FN, TP = cm.ravel()\n",
    "    accuracy = (TP + TN) / (TP + FP + FN + TN)\n",
    "    return accuracy * 100"
   ]
  },
  {
   "cell_type": "code",
   "execution_count": 23,
   "id": "c8eccf9d-1d9e-490e-9beb-067d44ce2162",
   "metadata": {},
   "outputs": [],
   "source": [
    "# Define function to plot confusion matrix\n",
    "def plot_confusion_matrix(y_train, anomalies, ax, accuracies):\n",
    "    cm = confusion_matrix(y_train, anomalies)\n",
    "    accuracy = calculate_accuracy(cm)\n",
    "    accuracies.append(accuracy)\n",
    "    sns.heatmap(cm, annot=True, fmt='d', cmap='Blues', xticklabels=['Normal', 'Anomaly'], yticklabels=['Normal', 'Anomaly'], ax=ax)\n",
    "    ax.set_xlabel('Predicted')\n",
    "    ax.set_ylabel('Actual')\n",
    "    ax.set_title(f'Confusion Matrix (Accuracy: {accuracy:.2f}%)')\n"
   ]
  },
  {
   "cell_type": "code",
   "execution_count": 26,
   "id": "19b7ddfd-8927-4f83-b5f7-43828c6236a6",
   "metadata": {},
   "outputs": [
    {
     "data": {
      "image/png": "[encoded data removed]",
      "text/plain": [
       "<Figure size 1200x1200 with 10 Axes>"
      ]
     },
     "metadata": {},
     "output_type": "display_data"
    }
   ],
   "source": [
    "# Create lists to store accuracies\n",
    "accuracies = []\n",
    "# Create 3x3 subplot grid\n",
    "fig, axes = plt.subplots(nrows=3, ncols=3, figsize=(12, 12))\n",
    "\n",
    "# Iterate through anomalies_full and plot subplots\n",
    "for idx, pred in enumerate(y_pred):\n",
    "    row = idx // 3\n",
    "    col = idx % 3\n",
    "    ax = axes[row, col]\n",
    "    # print(len(y_train), len(pred))\n",
    "    plot_confusion_matrix(y_train, pred, ax, accuracies)\n",
    "plt.tight_layout()\n",
    "plt.show()"
   ]
  },
  {
   "cell_type": "code",
   "execution_count": 27,
   "id": "9fc205da-4563-442c-9768-9ba556b08d02",
   "metadata": {},
   "outputs": [
    {
     "ename": "ValueError",
     "evalue": "x and y must have same first dimension, but have shapes (9,) and (1,)",
     "output_type": "error",
     "traceback": [
      "\u001b[0;31m---------------------------------------------------------------------------\u001b[0m",
      "\u001b[0;31mValueError\u001b[0m                                Traceback (most recent call last)",
      "Cell \u001b[0;32mIn[27], line 2\u001b[0m\n\u001b[1;32m      1\u001b[0m \u001b[38;5;66;03m# Plot accuracy for each anomaly setplt.figure(figsize=(10, 6))\u001b[39;00m\n\u001b[0;32m----> 2\u001b[0m plt\u001b[38;5;241m.\u001b[39mplot(\u001b[38;5;28mrange\u001b[39m(\u001b[38;5;241m1\u001b[39m, \u001b[38;5;241m10\u001b[39m), accuracies, marker\u001b[38;5;241m=\u001b[39m\u001b[38;5;124m'\u001b[39m\u001b[38;5;124mo\u001b[39m\u001b[38;5;124m'\u001b[39m, linestyle\u001b[38;5;241m=\u001b[39m\u001b[38;5;124m'\u001b[39m\u001b[38;5;124m-\u001b[39m\u001b[38;5;124m'\u001b[39m)\n\u001b[1;32m      3\u001b[0m plt\u001b[38;5;241m.\u001b[39mxlabel(\u001b[38;5;124m'\u001b[39m\u001b[38;5;124mK Number\u001b[39m\u001b[38;5;124m'\u001b[39m)\n\u001b[1;32m      4\u001b[0m plt\u001b[38;5;241m.\u001b[39mylabel(\u001b[38;5;124m'\u001b[39m\u001b[38;5;124mAccuracy (\u001b[39m\u001b[38;5;124m%\u001b[39m\u001b[38;5;124m)\u001b[39m\u001b[38;5;124m'\u001b[39m)\n",
      "File \u001b[0;32m~/anaconda3/lib/python3.11/site-packages/matplotlib/pyplot.py:3590\u001b[0m, in \u001b[0;36mplot\u001b[0;34m(scalex, scaley, data, *args, **kwargs)\u001b[0m\n\u001b[1;32m   3582\u001b[0m \u001b[38;5;129m@_copy_docstring_and_deprecators\u001b[39m(Axes\u001b[38;5;241m.\u001b[39mplot)\n\u001b[1;32m   3583\u001b[0m \u001b[38;5;28;01mdef\u001b[39;00m \u001b[38;5;21mplot\u001b[39m(\n\u001b[1;32m   3584\u001b[0m     \u001b[38;5;241m*\u001b[39margs: \u001b[38;5;28mfloat\u001b[39m \u001b[38;5;241m|\u001b[39m ArrayLike \u001b[38;5;241m|\u001b[39m \u001b[38;5;28mstr\u001b[39m,\n\u001b[0;32m   (...)\u001b[0m\n\u001b[1;32m   3588\u001b[0m     \u001b[38;5;241m*\u001b[39m\u001b[38;5;241m*\u001b[39mkwargs,\n\u001b[1;32m   3589\u001b[0m ) \u001b[38;5;241m-\u001b[39m\u001b[38;5;241m>\u001b[39m \u001b[38;5;28mlist\u001b[39m[Line2D]:\n\u001b[0;32m-> 3590\u001b[0m     \u001b[38;5;28;01mreturn\u001b[39;00m gca()\u001b[38;5;241m.\u001b[39mplot(\n\u001b[1;32m   3591\u001b[0m         \u001b[38;5;241m*\u001b[39margs,\n\u001b[1;32m   3592\u001b[0m         scalex\u001b[38;5;241m=\u001b[39mscalex,\n\u001b[1;32m   3593\u001b[0m         scaley\u001b[38;5;241m=\u001b[39mscaley,\n\u001b[1;32m   3594\u001b[0m         \u001b[38;5;241m*\u001b[39m\u001b[38;5;241m*\u001b[39m({\u001b[38;5;124m\"\u001b[39m\u001b[38;5;124mdata\u001b[39m\u001b[38;5;124m\"\u001b[39m: data} \u001b[38;5;28;01mif\u001b[39;00m data \u001b[38;5;129;01mis\u001b[39;00m \u001b[38;5;129;01mnot\u001b[39;00m \u001b[38;5;28;01mNone\u001b[39;00m \u001b[38;5;28;01melse\u001b[39;00m {}),\n\u001b[1;32m   3595\u001b[0m         \u001b[38;5;241m*\u001b[39m\u001b[38;5;241m*\u001b[39mkwargs,\n\u001b[1;32m   3596\u001b[0m     )\n",
      "File \u001b[0;32m~/anaconda3/lib/python3.11/site-packages/matplotlib/axes/_axes.py:1724\u001b[0m, in \u001b[0;36mAxes.plot\u001b[0;34m(self, scalex, scaley, data, *args, **kwargs)\u001b[0m\n\u001b[1;32m   1481\u001b[0m \u001b[38;5;250m\u001b[39m\u001b[38;5;124;03m\"\"\"\u001b[39;00m\n\u001b[1;32m   1482\u001b[0m \u001b[38;5;124;03mPlot y versus x as lines and/or markers.\u001b[39;00m\n\u001b[1;32m   1483\u001b[0m \n\u001b[0;32m   (...)\u001b[0m\n\u001b[1;32m   1721\u001b[0m \u001b[38;5;124;03m(``'green'``) or hex strings (``'#008000'``).\u001b[39;00m\n\u001b[1;32m   1722\u001b[0m \u001b[38;5;124;03m\"\"\"\u001b[39;00m\n\u001b[1;32m   1723\u001b[0m kwargs \u001b[38;5;241m=\u001b[39m cbook\u001b[38;5;241m.\u001b[39mnormalize_kwargs(kwargs, mlines\u001b[38;5;241m.\u001b[39mLine2D)\n\u001b[0;32m-> 1724\u001b[0m lines \u001b[38;5;241m=\u001b[39m [\u001b[38;5;241m*\u001b[39m\u001b[38;5;28mself\u001b[39m\u001b[38;5;241m.\u001b[39m_get_lines(\u001b[38;5;28mself\u001b[39m, \u001b[38;5;241m*\u001b[39margs, data\u001b[38;5;241m=\u001b[39mdata, \u001b[38;5;241m*\u001b[39m\u001b[38;5;241m*\u001b[39mkwargs)]\n\u001b[1;32m   1725\u001b[0m \u001b[38;5;28;01mfor\u001b[39;00m line \u001b[38;5;129;01min\u001b[39;00m lines:\n\u001b[1;32m   1726\u001b[0m     \u001b[38;5;28mself\u001b[39m\u001b[38;5;241m.\u001b[39madd_line(line)\n",
      "File \u001b[0;32m~/anaconda3/lib/python3.11/site-packages/matplotlib/axes/_base.py:303\u001b[0m, in \u001b[0;36m_process_plot_var_args.__call__\u001b[0;34m(self, axes, data, *args, **kwargs)\u001b[0m\n\u001b[1;32m    301\u001b[0m     this \u001b[38;5;241m+\u001b[39m\u001b[38;5;241m=\u001b[39m args[\u001b[38;5;241m0\u001b[39m],\n\u001b[1;32m    302\u001b[0m     args \u001b[38;5;241m=\u001b[39m args[\u001b[38;5;241m1\u001b[39m:]\n\u001b[0;32m--> 303\u001b[0m \u001b[38;5;28;01myield from\u001b[39;00m \u001b[38;5;28mself\u001b[39m\u001b[38;5;241m.\u001b[39m_plot_args(\n\u001b[1;32m    304\u001b[0m     axes, this, kwargs, ambiguous_fmt_datakey\u001b[38;5;241m=\u001b[39mambiguous_fmt_datakey)\n",
      "File \u001b[0;32m~/anaconda3/lib/python3.11/site-packages/matplotlib/axes/_base.py:499\u001b[0m, in \u001b[0;36m_process_plot_var_args._plot_args\u001b[0;34m(self, axes, tup, kwargs, return_kwargs, ambiguous_fmt_datakey)\u001b[0m\n\u001b[1;32m    496\u001b[0m     axes\u001b[38;5;241m.\u001b[39myaxis\u001b[38;5;241m.\u001b[39mupdate_units(y)\n\u001b[1;32m    498\u001b[0m \u001b[38;5;28;01mif\u001b[39;00m x\u001b[38;5;241m.\u001b[39mshape[\u001b[38;5;241m0\u001b[39m] \u001b[38;5;241m!=\u001b[39m y\u001b[38;5;241m.\u001b[39mshape[\u001b[38;5;241m0\u001b[39m]:\n\u001b[0;32m--> 499\u001b[0m     \u001b[38;5;28;01mraise\u001b[39;00m \u001b[38;5;167;01mValueError\u001b[39;00m(\u001b[38;5;124mf\u001b[39m\u001b[38;5;124m\"\u001b[39m\u001b[38;5;124mx and y must have same first dimension, but \u001b[39m\u001b[38;5;124m\"\u001b[39m\n\u001b[1;32m    500\u001b[0m                      \u001b[38;5;124mf\u001b[39m\u001b[38;5;124m\"\u001b[39m\u001b[38;5;124mhave shapes \u001b[39m\u001b[38;5;132;01m{\u001b[39;00mx\u001b[38;5;241m.\u001b[39mshape\u001b[38;5;132;01m}\u001b[39;00m\u001b[38;5;124m and \u001b[39m\u001b[38;5;132;01m{\u001b[39;00my\u001b[38;5;241m.\u001b[39mshape\u001b[38;5;132;01m}\u001b[39;00m\u001b[38;5;124m\"\u001b[39m)\n\u001b[1;32m    501\u001b[0m \u001b[38;5;28;01mif\u001b[39;00m x\u001b[38;5;241m.\u001b[39mndim \u001b[38;5;241m>\u001b[39m \u001b[38;5;241m2\u001b[39m \u001b[38;5;129;01mor\u001b[39;00m y\u001b[38;5;241m.\u001b[39mndim \u001b[38;5;241m>\u001b[39m \u001b[38;5;241m2\u001b[39m:\n\u001b[1;32m    502\u001b[0m     \u001b[38;5;28;01mraise\u001b[39;00m \u001b[38;5;167;01mValueError\u001b[39;00m(\u001b[38;5;124mf\u001b[39m\u001b[38;5;124m\"\u001b[39m\u001b[38;5;124mx and y can be no greater than 2D, but have \u001b[39m\u001b[38;5;124m\"\u001b[39m\n\u001b[1;32m    503\u001b[0m                      \u001b[38;5;124mf\u001b[39m\u001b[38;5;124m\"\u001b[39m\u001b[38;5;124mshapes \u001b[39m\u001b[38;5;132;01m{\u001b[39;00mx\u001b[38;5;241m.\u001b[39mshape\u001b[38;5;132;01m}\u001b[39;00m\u001b[38;5;124m and \u001b[39m\u001b[38;5;132;01m{\u001b[39;00my\u001b[38;5;241m.\u001b[39mshape\u001b[38;5;132;01m}\u001b[39;00m\u001b[38;5;124m\"\u001b[39m)\n",
      "\u001b[0;31mValueError\u001b[0m: x and y must have same first dimension, but have shapes (9,) and (1,)"
     ]
    },
    {
     "data": {
      "image/png": "[encoded data removed]",
      "text/plain": [
       "<Figure size 640x480 with 1 Axes>"
      ]
     },
     "metadata": {},
     "output_type": "display_data"
    }
   ],
   "source": [
    "# Plot accuracy for each anomaly setplt.figure(figsize=(10, 6))\n",
    "plt.plot(range(1, 10), accuracies, marker='o', linestyle='-')\n",
    "plt.xlabel('K Number')\n",
    "plt.ylabel('Accuracy (%)')\n",
    "plt.title('Accuracy for Each Anomaly Set')\n",
    "plt.grid(True)\n",
    "plt.show()"
   ]
  },
  {
   "cell_type": "code",
   "execution_count": 43,
   "id": "c7c6edc3-c39d-4f54-a536-47dded4e4048",
   "metadata": {},
   "outputs": [
    {
     "data": {
      "text/plain": [
       "['saved_model/best_model.joblib']"
      ]
     },
     "execution_count": 43,
     "metadata": {},
     "output_type": "execute_result"
    }
   ],
   "source": [
    "n_clusters_optimal = 2\n",
    "\n",
    "kmeans_optimal = KMeans(n_clusters=n_clusters_optimal, init='k-means++', max_iter=300, n_init=10, random_state=0)\n",
    "kmeans_optimal.fit(X_train_scaled)\n",
    "dump(kmeans_optimal, 'saved_model/best_model.joblib')"
   ]
  },
  {
   "cell_type": "markdown",
   "id": "5ae4d14b-aa6b-4ab0-8dff-2918da802f89",
   "metadata": {},
   "source": [
    "accuracies"
   ]
  },
  {
   "cell_type": "code",
   "execution_count": 28,
   "id": "c51f9000-5c7d-4a51-ada9-92fd28039a5c",
   "metadata": {},
   "outputs": [
    {
     "data": {
      "text/plain": [
       "[93.73718339522253]"
      ]
     },
     "execution_count": 28,
     "metadata": {},
     "output_type": "execute_result"
    }
   ],
   "source": [
    "accuracies"
   ]
  },
  {
   "cell_type": "code",
   "execution_count": 29,
   "id": "0ec46aac-0287-444e-bf72-7efbb18a5894",
   "metadata": {},
   "outputs": [],
   "source": []
  },
  {
   "cell_type": "code",
   "execution_count": 53,
   "id": "8ce937cd-2183-4a50-b661-e6f037c8d07f",
   "metadata": {},
   "outputs": [
    {
     "name": "stdout",
     "output_type": "stream",
     "text": [
      "93.73789092487095\n"
     ]
    }
   ],
   "source": [
    "# Choose the number of clusters based on your elbow method plot\n",
    "def model_train(n_clusters, X_train_scaled):\n",
    "    # kmeans = KMeans(n_clusters=n_clusters, init='k-means++', max_iter=10000, n_init=10, random_state=42)\n",
    "    kmeans = KMeans(n_clusters=n_clusters\n",
    "                    , init='random'\n",
    "                    , max_iter=400\n",
    "                    , n_init=100\n",
    "                    , random_state=42\n",
    "                    \n",
    "                   )\n",
    "    kmeans.fit(X_train_scaled)\n",
    "    \n",
    "    distances = kmeans.transform(X_train_scaled)\n",
    "    closest_cluster_distance = np.min(distances, axis=1)\n",
    "\n",
    "    threshold = np.percentile(closest_cluster_distance, 95)\n",
    "\n",
    "    y_pred = closest_cluster_distance > threshold\n",
    "    return y_pred\n",
    "    \n",
    "y_pred = model_train(2, X_train_scaled)\n",
    "cm = confusion_matrix(y_train, y_pred)\n",
    "accuracy = calculate_accuracy(cm)\n",
    "print(accuracy)"
   ]
  },
  {
   "cell_type": "code",
   "execution_count": null,
   "id": "cbdc79b6-7cdb-4278-b428-3f185a0ca20b",
   "metadata": {},
   "outputs": [],
   "source": []
  },
  {
   "cell_type": "code",
   "execution_count": 46,
   "id": "858479d8-48c9-45d1-85d7-ef83a84bd492",
   "metadata": {},
   "outputs": [
    {
     "data": {
      "text/plain": [
       "93.73706547361445"
      ]
     },
     "execution_count": 46,
     "metadata": {},
     "output_type": "execute_result"
    }
   ],
   "source": [
    "93.73706547361445"
   ]
  },
  {
   "cell_type": "code",
   "execution_count": 51,
   "id": "89f41e24-7e5a-4f29-af25-7af2712af21d",
   "metadata": {},
   "outputs": [
    {
     "data": {
      "text/plain": [
       "93.73694755200638"
      ]
     },
     "execution_count": 51,
     "metadata": {},
     "output_type": "execute_result"
    }
   ],
   "source": [
    "93.73694755200638"
   ]
  },
  {
   "cell_type": "code",
   "execution_count": 54,
   "id": "a61b438b-bc6c-40ce-8d8f-015f50aaccf3",
   "metadata": {},
   "outputs": [
    {
     "data": {
      "text/html": [
       "<div>\n",
       "<style scoped>\n",
       "    .dataframe tbody tr th:only-of-type {\n",
       "        vertical-align: middle;\n",
       "    }\n",
       "\n",
       "    .dataframe tbody tr th {\n",
       "        vertical-align: top;\n",
       "    }\n",
       "\n",
       "    .dataframe thead th {\n",
       "        text-align: right;\n",
       "    }\n",
       "</style>\n",
       "<table border=\"1\" class=\"dataframe\">\n",
       "  <thead>\n",
       "    <tr style=\"text-align: right;\">\n",
       "      <th></th>\n",
       "      <th>fraud</th>\n",
       "    </tr>\n",
       "  </thead>\n",
       "  <tbody>\n",
       "    <tr>\n",
       "      <th>0</th>\n",
       "      <td>0</td>\n",
       "    </tr>\n",
       "    <tr>\n",
       "      <th>1</th>\n",
       "      <td>0</td>\n",
       "    </tr>\n",
       "    <tr>\n",
       "      <th>2</th>\n",
       "      <td>0</td>\n",
       "    </tr>\n",
       "    <tr>\n",
       "      <th>3</th>\n",
       "      <td>0</td>\n",
       "    </tr>\n",
       "    <tr>\n",
       "      <th>4</th>\n",
       "      <td>0</td>\n",
       "    </tr>\n",
       "    <tr>\n",
       "      <th>...</th>\n",
       "      <td>...</td>\n",
       "    </tr>\n",
       "    <tr>\n",
       "      <th>1785303</th>\n",
       "      <td>0</td>\n",
       "    </tr>\n",
       "    <tr>\n",
       "      <th>1785304</th>\n",
       "      <td>1</td>\n",
       "    </tr>\n",
       "    <tr>\n",
       "      <th>1785305</th>\n",
       "      <td>1</td>\n",
       "    </tr>\n",
       "    <tr>\n",
       "      <th>1785306</th>\n",
       "      <td>0</td>\n",
       "    </tr>\n",
       "    <tr>\n",
       "      <th>1785307</th>\n",
       "      <td>0</td>\n",
       "    </tr>\n",
       "  </tbody>\n",
       "</table>\n",
       "<p>1785308 rows × 1 columns</p>\n",
       "</div>"
      ],
      "text/plain": [
       "         fraud\n",
       "0            0\n",
       "1            0\n",
       "2            0\n",
       "3            0\n",
       "4            0\n",
       "...        ...\n",
       "1785303      0\n",
       "1785304      1\n",
       "1785305      1\n",
       "1785306      0\n",
       "1785307      0\n",
       "\n",
       "[1785308 rows x 1 columns]"
      ]
     },
     "execution_count": 54,
     "metadata": {},
     "output_type": "execute_result"
    }
   ],
   "source": [
    "train_y"
   ]
  },
  {
   "cell_type": "code",
   "execution_count": null,
   "id": "79042ee8-601a-460f-b0f0-9eeb850ec2c3",
   "metadata": {},
   "outputs": [],
   "source": []
  }
 ],
 "metadata": {
  "kernelspec": {
   "display_name": "Python 3 (ipykernel)",
   "language": "python",
   "name": "python3"
  },
  "language_info": {
   "codemirror_mode": {
    "name": "ipython",
    "version": 3
   },
   "file_extension": ".py",
   "mimetype": "text/x-python",
   "name": "python",
   "nbconvert_exporter": "python",
   "pygments_lexer": "ipython3",
   "version": "3.11.5"
  }
 },
 "nbformat": 4,
 "nbformat_minor": 5
}
